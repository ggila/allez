{
 "cells": [
  {
   "cell_type": "markdown",
   "metadata": {},
   "source": [
    "<style>\n",
    "div.cell, div.text_cell_render{\n",
    "  max-width:750px;\n",
    "  margin-left:auto;\n",
    "  margin-right:auto;\n",
    "}\n",
    "\n",
    ".rendered_html\n",
    "{\n",
    "  font-size: 140%;\n",
    "  }\n",
    "\n",
    ".rendered_html li\n",
    "{\n",
    "  line-height: 1.8;\n",
    "  }\n",
    "\n",
    ".rendered_html h1, h2 {\n",
    "  text-align:center;\n",
    "  font-familly:\"Charis SIL\", serif;\n",
    "}\n",
    "</style>"
   ]
  },
  {
   "cell_type": "markdown",
   "metadata": {},
   "source": [
    "<small><i>This notebook was put together by [Jake Vanderplas](http://www.vanderplas.com) for UW's [Astro 599](http://www.astro.washington.edu/users/vanderplas/Astr599/) course. Source and license info is on [GitHub](https://github.com/jakevdp/2013_fall_ASTR599/).</i></small>"
   ]
  },
  {
   "cell_type": "markdown",
   "metadata": {
    "slideshow": {
     "slide_type": "slide"
    }
   },
   "source": [
    "Welcome to the Python Boot Camp!!\n",
    "=================================\n",
    "<img src=\"files/images/PythonCamp.jpg\" width=750>\n",
    "\n",
    "<font size=\"2\">\n",
    "<i>Much of this material thanks to http://www.pythonbootcamp.info/</i>\n",
    "</font>"
   ]
  },
  {
   "cell_type": "markdown",
   "metadata": {
    "slideshow": {
     "slide_type": "slide"
    }
   },
   "source": [
    "Objectives\n",
    "----------\n",
    "- Introduce you to the Python language\n",
    "- Get you *writing* Python code.\n",
    "- Convince you of Python's utility in your research life\n",
    "- Encourage good coding and data-management practices\n",
    "- Don't proselytize Python... too much"
   ]
  },
  {
   "cell_type": "markdown",
   "metadata": {
    "slideshow": {
     "slide_type": "slide"
    }
   },
   "source": [
    "Organization\n",
    "------------\n",
    "- Thursday-Friday, 9:00-12:00 & 1:00-4:00\n",
    "- Broken into 1-hour \"modules\"\n",
    "- Short breakout coding sessions after each module\n",
    "- Actual coding $\\to$ actual learning"
   ]
  },
  {
   "cell_type": "markdown",
   "metadata": {
    "slideshow": {
     "slide_type": "slide"
    }
   },
   "source": [
    "Course Information\n",
    "------------------\n",
    "\n",
    "- Course website: [http://www.astro.washington.edu/vanderplas/Astr599](http://www.astro.washington.edu/vanderplas/Astr599)\n",
    "- Github source: [http://github.com/jakevdp/2013_fall_ASTR599/](http://github.com/jakevdp/2013_fall_ASTR599/)"
   ]
  },
  {
   "cell_type": "markdown",
   "metadata": {
    "slideshow": {
     "slide_type": "slide"
    }
   },
   "source": [
    "Connecting to Me\n",
    "----------------\n",
    "### Jake Vanderplas\n",
    "\n",
    "- Email: jakevdp@cs.washington.edu\n",
    "- Twitter: [@jakevdp](http://www.twitter.com/jakevdp)\n",
    "- Github: [jakevdp](http://github.com/jakevdp)\n",
    "- Web: [http://www.astro.washington.edu/vanderplas](http://www.astro.washington.edu/vanderplas)\n",
    "- Blog: [http://jakevdp.github.io](http://jakevdp.github.io)\n"
   ]
  },
  {
   "cell_type": "markdown",
   "metadata": {
    "slideshow": {
     "slide_type": "slide"
    }
   },
   "source": [
    "<img src=\"files/images/python-logo.png\">\n",
    "\n",
    "### 1. What is Python?\n",
    "\n",
    "### 2. Why should a scientist use Python?\n",
    "\n",
    "### 3. Getting started: four ways to use Python"
   ]
  },
  {
   "cell_type": "markdown",
   "metadata": {
    "slideshow": {
     "slide_type": "slide"
    }
   },
   "source": [
    "## What is Python?\n",
    "\n",
    "> Python is an interpreted, object-oriented, high-level programming language with dynamic semantics. Its high-level built in data structures, combined with dynamic typing and dynamic binding, make it very attractive for Rapid Application Development, as well as for use as a scripting or glue language to connect existing components together. Python's simple, easy to learn syntax emphasizes readability and therefore reduces the cost of program maintenance. Python supports modules and packages, which encourages program modularity and code reuse. The Python interpreter and the extensive standard library are available in source or binary form without charge for all major platforms, and can be freely distributed.\n",
    "\n",
    "<div align=\"right\">http://www.python.org/doc/essays/blurb/</div>"
   ]
  },
  {
   "cell_type": "markdown",
   "metadata": {
    "slideshow": {
     "slide_type": "slide"
    }
   },
   "source": [
    "## What is Python\n",
    "\n",
    "<div align=\"center\">\n",
    "<table>\n",
    "  <tr><td>**Interpreted**</td><td>No need for a compiling stage</td></tr>\n",
    "  <tr><td>**Object-oriented**</td><td>Objects: complex data structures with attributes and methods</td></tr>\n",
    "  <tr><td>**High-level**</td><td>Abstraction from the way the machine actually executes</td></tr>\n",
    "  <tr><td>**Dynamic**</td><td>Variables can change meaning on-the-fly</td></tr>\n",
    "  <tr><td>**Built-in**</td><td>Fewer external requirements</td></tr>\n",
    "  <tr><td>**Data structures**</td><td>Ways of storing/manipulating data</td></tr>\n",
    "  <tr><td>**Script/Glue**</td><td>Code that controls other programs</td></tr>\n",
    "  <tr><td>**Typing**</td><td>The kind of variable (int, string, float)</td></tr>\n",
    "  <tr><td>**Syntax**</td><td>Grammar which defines the language</td></tr>\n",
    "  <tr><td>**Library**</td><td>reusable collection of code</td></tr>\n",
    "</table>\n",
    "</div>"
   ]
  },
  {
   "cell_type": "markdown",
   "metadata": {
    "slideshow": {
     "slide_type": "slide"
    }
   },
   "source": [
    "## History of Python\n",
    "\n",
    "<div style=\"background-image: url(files/images/Guido.jpg); background-repeat:no-repeat; background-position:bottom right; height: 400px; width: 730px;\">\n",
    "<ul>\n",
    "<li>Started over Christmas break 1989, by Guido van Rossum\n",
    "\n",
    "<li>Development in the Early '90s\n",
    "\n",
    "<li>Guido is the \"BDFL\": the Benevolent Dictator for Life\n",
    "</ul>\n",
    "\n",
    "<p style=\"margin-left:50px; width:430px; font-size:18px;\">\"...in December 1989, I was looking for a 'hobby' programming project that would keep me occupied during the week around Christmas. My office ... would be closed, but I had a home computer, and not much else on my hands. I decided to write an interpreter for the new scripting language I had been thinking about lately: a descendant of ABC that would appeal to Unix/C hackers. I chose Python as a working title for the project, being in a slightly irreverent mood (and a big fan of Monty Python's Flying Circus).\"</p>\n",
    "\n",
    "</div>"
   ]
  },
  {
   "cell_type": "markdown",
   "metadata": {
    "slideshow": {
     "slide_type": "slide"
    }
   },
   "source": [
    "### Aside... the glory of Monte Python\n",
    "\n",
    "<iframe align=\"center\" title=\"YouTube video player\" class=\"youtube-player\" type=\"text/html\" \n",
    "width=\"640\" height=\"390\" src=\"http://www.youtube.com/embed/i9SSOWORzw4\"\n",
    "frameborder=\"0\" allowFullScreen></iframe>\n"
   ]
  },
  {
   "cell_type": "markdown",
   "metadata": {
    "slideshow": {
     "slide_type": "slide"
    }
   },
   "source": [
    "History of Python\n",
    "-----------------\n",
    "\n",
    "- Open-sourced development from the start (currently BSD-licensed)\n",
    "\n",
    "- Large development community\n",
    "\n",
    "- Version 2.0 (2000), 2.6 (2008), 2.7 (2010)\n",
    "    + We'll use version 2.7.5 for this course\n",
    "  \n",
    "- Version 3.X (2008) is not backward compatible\n",
    "    + But 2.7 code can be migrated to 3.X relatively easily"
   ]
  },
  {
   "cell_type": "markdown",
   "metadata": {
    "slideshow": {
     "slide_type": "slide"
    }
   },
   "source": [
    "## Why should a Scientist use Python?\n",
    "\n",
    "<h2 style=\"text-align:left; color:green;\">C, C++, Fortran</h3>\n",
    "\n",
    "### Pros:\n",
    "  + Great performance; lots of legacy scientific computing codes\n",
    "\n",
    "### Cons:\n",
    "  + Syntax not optimized for casual programming\n",
    "  + No interactive facilities\n",
    "  + Difficult Visualization, text processing, etc."
   ]
  },
  {
   "cell_type": "markdown",
   "metadata": {
    "slideshow": {
     "slide_type": "slide"
    }
   },
   "source": [
    "## Why should a Scientist use Python?\n",
    "\n",
    "<h2 style=\"text-align:left; color:blue;\">IDL, Matlab, Mathematica</h2>\n",
    "\n",
    "### Pros:\n",
    "  + Interactive with easy visualization tools\n",
    "  + Extensive scientific libraries\n",
    "  \n",
    "### Cons:\n",
    "  + Costly and Proprietary\n",
    "  + Unpleasant for large-scale computing & non-mathematical tasks"
   ]
  },
  {
   "cell_type": "markdown",
   "metadata": {
    "slideshow": {
     "slide_type": "slide"
    }
   },
   "source": [
    "## Why should a Scientist use Python?\n",
    "\n",
    "- Python is free (BSD license) and highly portable (Linux, Mac OSX, Windows, etc.)\n",
    "- Interactive interpreter\n",
    "- Extremely readable syntax\n",
    "- Simple: non-professional programmers can use it effectively\n",
    "  + great documentation\n",
    "  + memory management is taken care of\n",
    "  \n",
    "  "
   ]
  },
  {
   "cell_type": "markdown",
   "metadata": {
    "slideshow": {
     "slide_type": "slide"
    }
   },
   "source": [
    "## Why should a Scientist use Python? (cont')\n",
    "\n",
    "- Clean (and optional) object-oriented model\n",
    "- Rich collection of built-in types, from simple to compound\n",
    "- Comprehensive standard library\n",
    "- Well-established 3rd-party packages (NumPy, SciPy, Matplotlib)\n",
    "- Easy wrapping of legacy code (C, C++, Fortran)"
   ]
  },
  {
   "cell_type": "markdown",
   "metadata": {
    "slideshow": {
     "slide_type": "slide"
    }
   },
   "source": [
    "## Why should a Scientist use Python? (cont')\n",
    "\n",
    "- Python mastery is a marketable skill-set.\n",
    "     + ([Python Job Board](http://www.python.org/community/jobs/))\n",
    "- By comparison, virtually no industries use IDL\n",
    "     + (sorry...)"
   ]
  },
  {
   "cell_type": "markdown",
   "metadata": {
    "slideshow": {
     "slide_type": "slide"
    }
   },
   "source": [
    "## Why should a Scientist use Python? (cont')\n",
    "\n",
    "<h2 style=\"text-align:left; color:green;\">Amazingly Scalable</h2>\n",
    "\n",
    "- Allows interactive experimentation\n",
    "- Code can be one-line scripts or million-line projects\n",
    "- Used by novices and full-time professionals alike\n",
    "\n",
    "<h2 style=\"text-align:left; color:red;\">The Kitchen Sink</h2>\n",
    "\n",
    "- Python can do anything you want with impressive simplicity\n",
    "\n",
    "<h2 style=\"text-align:left; color:blue;\">Performance when you need it</h2>\n",
    "\n",
    "- As an interpreted language, Python can be slow\n",
    "- But there are good options to get around this (as we'll see)"
   ]
  },
  {
   "cell_type": "markdown",
   "metadata": {
    "slideshow": {
     "slide_type": "slide"
    }
   },
   "source": [
    "# LSST Group uses it for...\n",
    "<div style=\"background-image: url(files/images/LSST.jpg); background-repeat:no-repeat; background-position:bottom right; height: 400px; width: 730px;\">\n",
    "<h3 style=\"text-align:left; color:#006600\">Data reduction & Analysis</h3>\n",
    "<h3 style=\"text-align:left; color:#000066\">Wrapping of LSST C++ Pipeline</h3>\n",
    "<h3 style=\"text-align:left; color:#660000\">Quick Calculations</h3>\n",
    "<h3 style=\"text-align:left; color:#000000\">Building websites</h3>\n",
    "<h3 style=\"text-align:left; color:#006600\">Quick Visualization</h3>\n",
    "<h3 style=\"text-align:left; color:#000066\">Plots for Publications</h3>\n",
    "</div>"
   ]
  },
  {
   "cell_type": "markdown",
   "metadata": {
    "slideshow": {
     "slide_type": "slide"
    }
   },
   "source": [
    "## IPython Notebook in Action:"
   ]
  },
  {
   "cell_type": "code",
   "execution_count": 2,
   "metadata": {
    "collapsed": false,
    "slideshow": {
     "slide_type": "fragment"
    }
   },
   "outputs": [
    {
     "name": "stdout",
     "output_type": "stream",
     "text": [
      "Populating the interactive namespace from numpy and matplotlib\n"
     ]
    },
    {
     "data": {
      "text/plain": [
       "<matplotlib.collections.PathCollection at 0x37e4e50>"
      ]
     },
     "execution_count": 2,
     "metadata": {},
     "output_type": "execute_result"
    },
    {
     "data": {
      "image/png": "[encoded data removed]",
      "text/plain": [
       "<matplotlib.figure.Figure at 0x37e4dd0>"
      ]
     },
     "metadata": {},
     "output_type": "display_data"
    }
   ],
   "source": [
    "%pylab inline\n",
    "\n",
    "N = 200\n",
    "r = 2 * rand(N)\n",
    "theta = 2 * pi * rand(N)\n",
    "area = 200 * r ** 2 * rand(N)\n",
    "ax = plt.subplot(111, polar=True)\n",
    "scatter(theta, r, c=theta, s=area, alpha=0.75)"
   ]
  },
  {
   "cell_type": "markdown",
   "metadata": {
    "slideshow": {
     "slide_type": "slide"
    }
   },
   "source": [
    "# IPython Notebook:\n",
    "## Gaining major acceptance as a computing & demo platform"
   ]
  },
  {
   "cell_type": "code",
   "execution_count": 3,
   "metadata": {
    "collapsed": false,
    "slideshow": {
     "slide_type": "fragment"
    }
   },
   "outputs": [
    {
     "data": {
      "text/html": [
       "\n",
       "        <iframe\n",
       "            width=\"400\"\n",
       "            height=\"300\"\n",
       "            src=\"https://www.youtube.com/embed/tlontoyWX70?start=30\"\n",
       "            frameborder=\"0\"\n",
       "            allowfullscreen\n",
       "        ></iframe>\n",
       "        "
      ],
      "text/plain": [
       "<IPython.lib.display.YouTubeVideo at 0x37e4510>"
      ]
     },
     "execution_count": 3,
     "metadata": {},
     "output_type": "execute_result"
    }
   ],
   "source": [
    "from IPython.display import YouTubeVideo\n",
    "YouTubeVideo('tlontoyWX70', start=30)"
   ]
  },
  {
   "cell_type": "markdown",
   "metadata": {
    "slideshow": {
     "slide_type": "slide"
    }
   },
   "source": [
    "## Visualization:"
   ]
  },
  {
   "cell_type": "code",
   "execution_count": 4,
   "metadata": {
    "collapsed": false,
    "slideshow": {
     "slide_type": "fragment"
    }
   },
   "outputs": [
    {
     "name": "stdout",
     "output_type": "stream",
     "text": [
      "  % Total    % Received % Xferd  Average Speed   Time    Time     Time  Current\n",
      "                                 Dload  Upload   Total   Spent    Left  Speed\n",
      "100  4562  100  4562    0     0  30522      0 --:--:-- --:--:-- --:--:-- 30824\n"
     ]
    },
    {
     "ename": "ImportError",
     "evalue": "No module named astroML.datasets",
     "output_type": "error",
     "traceback": [
      "\u001b[1;31m---------------------------------------------------------------------------\u001b[0m",
      "\u001b[1;31mImportError\u001b[0m                               Traceback (most recent call last)",
      "\u001b[1;32m/home/gautier/2013_fall_ASTR599/notebooks/fig_moving_objects_multicolor.py\u001b[0m in \u001b[0;36m<module>\u001b[1;34m()\u001b[0m\n\u001b[0;32m     21\u001b[0m \u001b[1;32mimport\u001b[0m \u001b[0mnumpy\u001b[0m \u001b[1;32mas\u001b[0m \u001b[0mnp\u001b[0m\u001b[1;33m\u001b[0m\u001b[0m\n\u001b[0;32m     22\u001b[0m \u001b[1;32mfrom\u001b[0m \u001b[0mmatplotlib\u001b[0m \u001b[1;32mimport\u001b[0m \u001b[0mpyplot\u001b[0m \u001b[1;32mas\u001b[0m \u001b[0mplt\u001b[0m\u001b[1;33m\u001b[0m\u001b[0m\n\u001b[1;32m---> 23\u001b[1;33m \u001b[1;32mfrom\u001b[0m \u001b[0mastroML\u001b[0m\u001b[1;33m.\u001b[0m\u001b[0mdatasets\u001b[0m \u001b[1;32mimport\u001b[0m \u001b[0mfetch_moving_objects\u001b[0m\u001b[1;33m\u001b[0m\u001b[0m\n\u001b[0m\u001b[0;32m     24\u001b[0m \u001b[1;32mfrom\u001b[0m \u001b[0mastroML\u001b[0m\u001b[1;33m.\u001b[0m\u001b[0mplotting\u001b[0m\u001b[1;33m.\u001b[0m\u001b[0mtools\u001b[0m \u001b[1;32mimport\u001b[0m \u001b[0mdevectorize_axes\u001b[0m\u001b[1;33m\u001b[0m\u001b[0m\n\u001b[0;32m     25\u001b[0m \u001b[1;33m\u001b[0m\u001b[0m\n",
      "\u001b[1;31mImportError\u001b[0m: No module named astroML.datasets"
     ]
    }
   ],
   "source": [
    "!curl -O http://www.astroml.org/_downloads/fig_moving_objects_multicolor.py\n",
    "%run fig_moving_objects_multicolor.py"
   ]
  },
  {
   "cell_type": "markdown",
   "metadata": {
    "slideshow": {
     "slide_type": "slide"
    }
   },
   "source": [
    "# Animations\n",
    "\n",
    "<video width='700' height='500' preload='none' controls poster='http://jakevdp.github.io/downloads/videos/double_pendulum_frame.png'><source src='http://jakevdp.github.io/downloads/videos/double_pendulum.mp4' type='video/mp4; codecs=\"avc1.42E01E, mp4a.40.2\"'></video>\n",
    "\n",
    "[http://jakevdp.github.io/blog/2012/08/18/matplotlib-animation-tutorial/](http://jakevdp.github.io/blog/2012/08/18/matplotlib-animation-tutorial/)"
   ]
  },
  {
   "cell_type": "markdown",
   "metadata": {
    "slideshow": {
     "slide_type": "slide"
    }
   },
   "source": [
    "# Time to Get Started...\n",
    "# but first an interlude\n",
    "\n",
    "<iframe align=\"center\" title=\"YouTube video player\" class=\"youtube-player\" type=\"text/html\" \n",
    "width=\"640\" height=\"390\" src=\"http://www.youtube.com/embed/wippooDL6WE\"\n",
    "frameborder=\"0\" allowFullScreen></iframe>"
   ]
  },
  {
   "cell_type": "markdown",
   "metadata": {
    "slideshow": {
     "slide_type": "slide"
    }
   },
   "source": [
    "# Getting Started: Four Ways to Use Python\n",
    "\n",
    "### 1. The Python command-line interpreter\n",
    "\n",
    "### 2. Editing Python (.py) files\n",
    "\n",
    "### 3. The IPython command-line interpreter\n",
    "\n",
    "### 4. The IPython notebook"
   ]
  },
  {
   "cell_type": "markdown",
   "metadata": {
    "slideshow": {
     "slide_type": "slide"
    }
   },
   "source": [
    "## 1. The Python command-line Interpreter\n",
    "\n",
    "If you have never used the command-line, you're in for a treat\n",
    "\n",
    "- Mac OSX: in Finder/Applications, search for \"Terminal\"\n",
    "\n",
    "- Linux/Unix: ``Ctrl-Alt-t``\n",
    "\n",
    "- Windows: run \"cmd\"\n",
    "\n",
    "<img src=\"files/images/OSX_terminal.png\">"
   ]
  },
  {
   "cell_type": "markdown",
   "metadata": {
    "slideshow": {
     "slide_type": "slide"
    }
   },
   "source": [
    "## 1. The Python command-line Interpreter\n",
    "\n",
    "Type ``python`` at the command-line to start the interpreter\n",
    "\n",
    "<img src=\"files/images/OSX_terminal_python.png\">"
   ]
  },
  {
   "cell_type": "markdown",
   "metadata": {
    "slideshow": {
     "slide_type": "slide"
    }
   },
   "source": [
    "## 1. The Python Command-line Interpreter\n",
    "\n",
    "Execute a command: Type ``print \"hello world\"``\n",
    "\n",
    "<img src=\"files/images/OSX_terminal_hello.png\">"
   ]
  },
  {
   "cell_type": "markdown",
   "metadata": {
    "slideshow": {
     "slide_type": "slide"
    }
   },
   "source": [
    "## 1. The Python Command-line Interpreter\n",
    "\n",
    "Closing the terminal:\n",
    "\n",
    "- Either type ``exit()`` or type ``Ctrl-d``\n",
    "\n",
    "<img src=\"files/images/OSX_terminal_exit.png\">"
   ]
  },
  {
   "cell_type": "markdown",
   "metadata": {
    "slideshow": {
     "slide_type": "slide"
    }
   },
   "source": [
    "## 2. Editing Python (.py) files\n",
    "\n",
    "### This requires a text editor.\n",
    "\n",
    "The best option is one which includes code highlighting\n",
    "\n",
    "- Linux: gedit, emacs, nano, vim...\n",
    "-  Mac OSX: textmate, emacs, nano, vim...\n",
    "-  Windows: NotePad...\n",
    "\n",
    "### GUI-based editors with bells & whistles\n",
    "\n",
    "-  Linux: KWrite, Scribes, eggy\n",
    "-  Mac OSX: TextWrangler, SublimeText\n",
    "-  Windows: NotePad++, SublimeText"
   ]
  },
  {
   "cell_type": "markdown",
   "metadata": {
    "slideshow": {
     "slide_type": "slide"
    }
   },
   "source": [
    "## 2. Editing Python (.py) files\n",
    "\n",
    "Use your editor to open ``hello_world.py`` (here we use OSX's ``mate``)\n",
    "\n",
    "<img src=\"files/images/OSX_mate.png\">\n",
    "\n",
    "Edit the file to say ``print \"hello world\"``\n",
    "\n",
    "<img src=\"files/images/mate_hello_world.png\">\n",
    "\n",
    "In the terminal, run ``python hello_world.py``\n",
    "\n",
    "<img src=\"files/images/run_hello_world.png\">"
   ]
  },
  {
   "cell_type": "markdown",
   "metadata": {
    "slideshow": {
     "slide_type": "slide"
    }
   },
   "source": [
    "## 3. The IPython command-line Interpreter\n",
    "\n",
    "IPython provides an enhanced command-line interface\n",
    "\n",
    "It can be started by typing ``ipython``:\n",
    "\n",
    "<img src=\"files/images/ipython_start.png\">\n",
    "\n",
    "Useful features include tab completion, help (``?``), etc."
   ]
  },
  {
   "cell_type": "markdown",
   "metadata": {
    "slideshow": {
     "slide_type": "slide"
    }
   },
   "source": [
    "## 3. The IPython command-line Interpreter\n",
    "\n",
    "Basic use is just like the standard interpreter:\n",
    "\n",
    "<img src=\"files/images/ipython_hello.png\">"
   ]
  },
  {
   "cell_type": "markdown",
   "metadata": {
    "slideshow": {
     "slide_type": "slide"
    }
   },
   "source": [
    "## 4. The IPython Notebook\n",
    "\n",
    "The IPython notebook can be started by typing ``ipython notebook``:\n",
    "\n",
    "<img src=\"files/images/ipynb_command.png\">\n"
   ]
  },
  {
   "cell_type": "markdown",
   "metadata": {
    "slideshow": {
     "slide_type": "slide"
    }
   },
   "source": [
    "## 4. The IPython Notebook\n",
    "\n",
    "\n",
    "Your web browser should open to an interactive notebook page\n",
    "\n",
    "<img src=\"files/images/ipynb_start_page.png\">\n",
    "\n",
    "Notice that this slideshow is written as an IPython notebook!\n"
   ]
  },
  {
   "cell_type": "markdown",
   "metadata": {
    "slideshow": {
     "slide_type": "slide"
    }
   },
   "source": [
    "## Conclusions\n",
    "\n",
    "- We've introduced Python and motivated its use in science\n",
    "\n",
    "- We've talked about four ways to use Python\n",
    "\n",
    "- Next up: basic training - getting started in Python"
   ]
  }
 ],
 "metadata": {
  "kernelspec": {
   "display_name": "Python 2",
   "language": "python",
   "name": "python2"
  },
  "language_info": {
   "codemirror_mode": {
    "name": "ipython",
    "version": 2
   },
   "file_extension": ".py",
   "mimetype": "text/x-python",
   "name": "python",
   "nbconvert_exporter": "python",
   "pygments_lexer": "ipython2",
   "version": "2.7.5+"
  }
 },
 "nbformat": 4,
 "nbformat_minor": 0
}
