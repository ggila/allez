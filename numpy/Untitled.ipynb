{
 "cells": [
  {
   "cell_type": "code",
   "execution_count": 1,
   "metadata": {
    "collapsed": false
   },
   "outputs": [],
   "source": [
    "import numpy as np\n",
    "import matplotlib.pyplot as plt\n",
    "from matplotlib import animation"
   ]
  },
  {
   "cell_type": "code",
   "execution_count": 2,
   "metadata": {
    "collapsed": false,
    "scrolled": true
   },
   "outputs": [],
   "source": [
    "x = np.linspace(-5,5, 2)\n",
    "ax = plt.axes(xlim=(-4,5), ylim=(-15,15))\n",
    "lines = plt.plot(x, -0.8 * x - 2, 'k--', x, 3 * x , 'r--')"
   ]
  },
  {
   "cell_type": "code",
   "execution_count": 2,
   "metadata": {
    "collapsed": false
   },
   "outputs": [
    {
     "name": "stderr",
     "output_type": "stream",
     "text": [
      "Exception in Tkinter callback\n",
      "Traceback (most recent call last):\n",
      "  File \"/usr/lib/python2.7/lib-tk/Tkinter.py\", line 1473, in __call__\n",
      "    return self.func(*args)\n",
      "  File \"/usr/lib/pymodules/python2.7/matplotlib/backends/backend_tkagg.py\", line 276, in resize\n",
      "    self.show()\n",
      "  File \"/usr/lib/pymodules/python2.7/matplotlib/backends/backend_tkagg.py\", line 348, in draw\n",
      "    FigureCanvasAgg.draw(self)\n",
      "  File \"/usr/lib/pymodules/python2.7/matplotlib/backends/backend_agg.py\", line 440, in draw\n",
      "    self.figure.draw(self.renderer)\n",
      "  File \"/usr/lib/pymodules/python2.7/matplotlib/artist.py\", line 54, in draw_wrapper\n",
      "    draw(artist, renderer, *args, **kwargs)\n",
      "  File \"/usr/lib/pymodules/python2.7/matplotlib/figure.py\", line 1012, in draw\n",
      "    self.canvas.draw_event(renderer)\n",
      "  File \"/usr/lib/pymodules/python2.7/matplotlib/backend_bases.py\", line 1584, in draw_event\n",
      "    self.callbacks.process(s, event)\n",
      "  File \"/usr/lib/pymodules/python2.7/matplotlib/cbook.py\", line 343, in process\n",
      "    proxy(*args, **kwargs)\n",
      "  File \"/usr/lib/pymodules/python2.7/matplotlib/cbook.py\", line 220, in __call__\n",
      "    return mtd(*args, **kwargs)\n",
      "  File \"/usr/lib/pymodules/python2.7/matplotlib/animation.py\", line 729, in _end_redraw\n",
      "    self._post_draw(None, self._blit)\n",
      "  File \"/usr/lib/pymodules/python2.7/matplotlib/animation.py\", line 675, in _post_draw\n",
      "    self._blit_draw(self._drawn_artists, self._blit_cache)\n",
      "  File \"/usr/lib/pymodules/python2.7/matplotlib/animation.py\", line 684, in _blit_draw\n",
      "    for a in artists:\n",
      "TypeError: 'Line2D' object is not iterable\n"
     ]
    }
   ],
   "source": [
    "fig = plt.figure()\n",
    "ax = plt.axes(xlim=(-5,5),ylim=(-5,5))\n",
    "line, = plt.plot([],[],'o')\n",
    "\n",
    "x = np.linspace(-5,5,20)\n",
    "\n",
    "#def init():\n",
    "#    line.set_data([],[])\n",
    "#    return line\n",
    "\n",
    "def update_line(i, x, line):\n",
    "    n = i%len(x)\n",
    "    line.set_data(x[n],x[n])\n",
    "    return line,\n",
    "\n",
    "C\n",
    "plt.show()"
   ]
  },
  {
   "cell_type": "code",
   "execution_count": null,
   "metadata": {
    "collapsed": true
   },
   "outputs": [],
   "source": []
  }
 ],
 "metadata": {
  "kernelspec": {
   "display_name": "Python 2",
   "language": "python",
   "name": "python2"
  },
  "language_info": {
   "codemirror_mode": {
    "name": "ipython",
    "version": 2
   },
   "file_extension": ".py",
   "mimetype": "text/x-python",
   "name": "python",
   "nbconvert_exporter": "python",
   "pygments_lexer": "ipython2",
   "version": "2.7.5+"
  }
 },
 "nbformat": 4,
 "nbformat_minor": 0
}
