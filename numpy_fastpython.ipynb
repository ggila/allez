{
 "cells": [
  {
   "cell_type": "code",
   "execution_count": 1,
   "metadata": {
    "collapsed": true
   },
   "outputs": [],
   "source": [
    "import numpy as np"
   ]
  },
  {
   "cell_type": "markdown",
   "metadata": {},
   "source": [
    "\n",
    "# Efficient Computing with NumPy\n",
    "with Jake Vanderplas"
   ]
  },
  {
   "cell_type": "markdown",
   "metadata": {},
   "source": [
    "**Topics**\n",
    "* numpy (efficient python)"
   ]
  },
  {
   "cell_type": "code",
   "execution_count": 2,
   "metadata": {
    "collapsed": false,
    "scrolled": true
   },
   "outputs": [
    {
     "name": "stdout",
     "output_type": "stream",
     "text": [
      "1000 loops, best of 3: 1.56 ms per loop\n"
     ]
    }
   ],
   "source": [
    "def func(N):\n",
    "    d = 0.\n",
    "    for i in range(N):\n",
    "        d += (i%3 - 1) *i\n",
    "    return d\n",
    "\n",
    "%timeit func(10000)"
   ]
  },
  {
   "cell_type": "markdown",
   "metadata": {},
   "source": [
    "17,9 micro.s for fortran\n",
    "\n",
    "- each operations comes with small type-checking overheadd\n",
    "- reference operation\n",
    "\n",
    "numpy is desidned for :\n",
    "\n",
    "- fast developement time of python\n",
    "- fast execution time of C/fortran\n",
    "by pushing repeated operations into a statically-type\n",
    "\n",
    "4 strategies:\n",
    "\n",
    "- use **ufunc**\n",
    "- use **aggregating**\n",
    "- use **broadcasting**\n",
    "- use **slicing, masking and fancy indexing**\n",
    "\n",
    "Overall goal: \n",
    "Push repeated operations into compiled code and * **get rid of slow loops** *"
   ]
  },
  {
   "cell_type": "markdown",
   "metadata": {},
   "source": [
    "## Ufunc"
   ]
  },
  {
   "cell_type": "markdown",
   "metadata": {},
   "source": [
    "element-wise operations"
   ]
  },
  {
   "cell_type": "code",
   "execution_count": 3,
   "metadata": {
    "collapsed": false,
    "scrolled": true
   },
   "outputs": [
    {
     "name": "stdout",
     "output_type": "stream",
     "text": [
      "100 loops, best of 3: 4.85 ms per loop\n",
      "The slowest run took 5.09 times longer than the fastest. This could mean that an intermediate result is being cached.\n",
      "10000 loops, best of 3: 74.4 µs per loop\n"
     ]
    }
   ],
   "source": [
    "import numpy as np\n",
    "\n",
    "a = list(range(100000))\n",
    "%timeit [val+5 for val in a]\n",
    "\n",
    "a = np.array(a)\n",
    "%timeit a+5"
   ]
  },
  {
   "cell_type": "markdown",
   "metadata": {},
   "source": [
    "- arithmetic : + - * / // % **\n",
    "- bitwise : & | ~ ^ >> <<\n",
    "- Comparison : > < >= <= == !=\n",
    "- trig\n",
    "- exp\n",
    "- special"
   ]
  },
  {
   "cell_type": "markdown",
   "metadata": {},
   "source": [
    "## Aggregations"
   ]
  },
  {
   "cell_type": "markdown",
   "metadata": {},
   "source": [
    "functions which summarize the values in an array :\n",
    "min, max, sum, mean..."
   ]
  },
  {
   "cell_type": "code",
   "execution_count": 4,
   "metadata": {
    "collapsed": false
   },
   "outputs": [
    {
     "name": "stdout",
     "output_type": "stream",
     "text": [
      "100 loops, best of 3: 2.58 ms per loop\n",
      "The slowest run took 17.11 times longer than the fastest. This could mean that an intermediate result is being cached.\n",
      "10000 loops, best of 3: 43.6 µs per loop\n"
     ]
    }
   ],
   "source": [
    "from random import random\n",
    "c = [random() for i in range(100000)]\n",
    "\n",
    "%timeit min(c)\n",
    "\n",
    "c = np.array(c)\n",
    "%timeit c.min()"
   ]
  },
  {
   "cell_type": "code",
   "execution_count": 5,
   "metadata": {
    "collapsed": false
   },
   "outputs": [
    {
     "name": "stdout",
     "output_type": "stream",
     "text": [
      "[[9 7 3 8 4]\n",
      " [5 6 7 2 3]\n",
      " [9 7 1 2 2]]\n",
      " \n",
      "75\n",
      " \n",
      "[23 20 11 12  9]\n",
      "[31 23 21]\n"
     ]
    }
   ],
   "source": [
    "M = np.random.randint(1,10,(3,5))\n",
    "print M\n",
    "print ' '\n",
    "print M.sum()\n",
    "print ' '\n",
    "print M.sum(axis=0)\n",
    "print M.sum(axis=1)"
   ]
  },
  {
   "cell_type": "markdown",
   "metadata": {},
   "source": [
    "## Broadcasting\n",
    "\n",
    "set of rules by whitch ufunc operate on arrays of sizes and/or dimensions"
   ]
  },
  {
   "cell_type": "code",
   "execution_count": 6,
   "metadata": {
    "collapsed": false
   },
   "outputs": [
    {
     "name": "stdout",
     "output_type": "stream",
     "text": [
      "[1 2 3]\n",
      " \n",
      "[[ 1.  2.  3.]\n",
      " [ 1.  2.  3.]\n",
      " [ 1.  2.  3.]]\n",
      " \n",
      "[[0 1 2]\n",
      " [1 2 3]\n",
      " [2 3 4]]\n"
     ]
    }
   ],
   "source": [
    "a = np.arange(3) + 1\n",
    "b = np.ones((3,3)) + np.arange(3)\n",
    "c = np.arange(3)\n",
    "c = c.reshape((3,1)) + c\n",
    "\n",
    "print a\n",
    "print ' '\n",
    "print b\n",
    "print ' '\n",
    "print c"
   ]
  },
  {
   "cell_type": "markdown",
   "metadata": {},
   "source": [
    "Rule of broadcasting :\n",
    "\n",
    "- 1: if array shapes differ, lef-pad the smaller shape with 1s\n",
    "- 2: if any dimension does not match, broadcast the dimension with size 1\n",
    "- 3: if neither non-matching dimension is 1, raise error"
   ]
  },
  {
   "cell_type": "markdown",
   "metadata": {},
   "source": [
    "## Slicing, masking, fancy index"
   ]
  },
  {
   "cell_type": "code",
   "execution_count": 7,
   "metadata": {
    "collapsed": false
   },
   "outputs": [
    {
     "name": "stdout",
     "output_type": "stream",
     "text": [
      "1 [2, 3]\n"
     ]
    }
   ],
   "source": [
    "L = [1,2,3,4,5]\n",
    "print L[0], L[1:-2]"
   ]
  },
  {
   "cell_type": "code",
   "execution_count": 18,
   "metadata": {
    "collapsed": false
   },
   "outputs": [
    {
     "name": "stdout",
     "output_type": "stream",
     "text": [
      "[ True  True  True  True False False False False False  True  True  True]\n",
      "[ 0  1  2  3  9 10 11]\n"
     ]
    }
   ],
   "source": [
    "l = np.arange(12)\n",
    "mask = (l < 4) | (l > 8)\n",
    "print(mask)\n",
    "print(l[mask])"
   ]
  },
  {
   "cell_type": "code",
   "execution_count": 9,
   "metadata": {
    "collapsed": false
   },
   "outputs": [
    {
     "data": {
      "text/plain": [
       "array([0, 2, 4, 6, 8])"
      ]
     },
     "execution_count": 9,
     "metadata": {},
     "output_type": "execute_result"
    }
   ],
   "source": [
    "l[[0,2,4,6,8]]"
   ]
  },
  {
   "cell_type": "code",
   "execution_count": 29,
   "metadata": {
    "collapsed": false
   },
   "outputs": [
    {
     "name": "stdout",
     "output_type": "stream",
     "text": [
      "[[0 1 2]\n",
      " [3 4 5]\n",
      " [6 7 8]]\n"
     ]
    }
   ],
   "source": [
    "l = np.arange(9).reshape(3,3)\n",
    "print(l)"
   ]
  },
  {
   "cell_type": "markdown",
   "metadata": {},
   "source": [
    "axis"
   ]
  },
  {
   "cell_type": "code",
   "execution_count": 36,
   "metadata": {
    "collapsed": false
   },
   "outputs": [
    {
     "name": "stdout",
     "output_type": "stream",
     "text": [
      "[ 9 12 15]\n",
      "[ True  True  True]\n",
      "[False  True  True]\n"
     ]
    }
   ],
   "source": [
    "print(l.sum(axis=0))\n",
    "print(l.sum(axis=0) > 4)\n",
    "print(l.sum(axis=1) > 4)"
   ]
  },
  {
   "cell_type": "code",
   "execution_count": 37,
   "metadata": {
    "collapsed": false
   },
   "outputs": [
    {
     "name": "stdout",
     "output_type": "stream",
     "text": [
      "[[0 1 2]\n",
      " [3 4 5]\n",
      " [6 7 8]]\n",
      "[[3 4 5]\n",
      " [6 7 8]]\n",
      "[[4 5]\n",
      " [7 8]]\n"
     ]
    }
   ],
   "source": [
    "print(l[l.sum(axis=0) > 4])\n",
    "print(l[l.sum(axis=1) > 4])\n",
    "print(l[l.sum(axis=1) > 4, 1:])"
   ]
  }
 ],
 "metadata": {
  "kernelspec": {
   "display_name": "Python 2",
   "language": "python",
   "name": "python2"
  },
  "language_info": {
   "codemirror_mode": {
    "name": "ipython",
    "version": 2
   },
   "file_extension": ".py",
   "mimetype": "text/x-python",
   "name": "python",
   "nbconvert_exporter": "python",
   "pygments_lexer": "ipython2",
   "version": "2.7.5+"
  }
 },
 "nbformat": 4,
 "nbformat_minor": 0
}
