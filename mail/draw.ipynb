{
 "cells": [
  {
   "cell_type": "code",
   "execution_count": 2,
   "metadata": {
    "collapsed": false
   },
   "outputs": [],
   "source": [
    "import a"
   ]
  },
  {
   "cell_type": "code",
   "execution_count": 3,
   "metadata": {
    "collapsed": true
   },
   "outputs": [],
   "source": [
    "import numpy as np\n",
    "import matplotlib.pyplot as plt\n",
    "%matplotlib inline"
   ]
  },
  {
   "cell_type": "code",
   "execution_count": 4,
   "metadata": {
    "collapsed": false
   },
   "outputs": [],
   "source": [
    "day = np.array(a.dataDay, dtype='timedelta64') / float(3.6e9)\n",
    "week = np.array(a.dataWeek, dtype='timedelta64') / float(3.6e9)\n",
    "week = ((week * np.ones((7, 1))).T.reshape(1, 7 * len(week)) / 7)[0]\n",
    "day_scale = np.datetime64(a.begin) + np.arange(len(day)) * np.timedelta64(1, 'D')\n",
    "scale = np.arange(len(day))"
   ]
  },
  {
   "cell_type": "code",
   "execution_count": 5,
   "metadata": {
    "collapsed": false
   },
   "outputs": [],
   "source": [
    "#print len(week)\n",
    "#print len(week[(7 - a.firstWeekLen):-(1 + (7 - a.lastWeekLen))])\n",
    "#print len(week[(7 - a.firstWeekLen):-1])\n",
    "#print len(day_scale)\n",
    "#print a.begin\n",
    "#print len(day_scale)\n",
    "#print a.firstWeekLen\n",
    "#print a.lastWeekLen"
   ]
  },
  {
   "cell_type": "code",
   "execution_count": 13,
   "metadata": {
    "collapsed": false
   },
   "outputs": [
    {
     "data": {
      "text/plain": [
       "[<matplotlib.lines.Line2D at 0x358f390>]"
      ]
     },
     "execution_count": 13,
     "metadata": {},
     "output_type": "execute_result"
    },
    {
     "data": {
      "image/png": "[encoded data removed]",
      "text/plain": [
       "<matplotlib.figure.Figure at 0x358ff50>"
      ]
     },
     "metadata": {},
     "output_type": "display_data"
    }
   ],
   "source": [
    "fig = plt.figure(figsize=(8,8))\n",
    "ax = fig.add_axes([0.1, 0.1, 0.8, 0.8])\n",
    "\n",
    "mask_dayof = (day == np.timedelta64(0))\n",
    "mask_dayon = np.logical_not(mask_dayof)\n",
    "\n",
    "ax.plot(scale[mask_dayof], day[mask_dayof], 'yo')\n",
    "ax.plot(scale[mask_dayon], day[mask_dayon], 'b.')\n",
    "ax.fill_between(np.arange(len(day_scale)), 0, 16, where=mask_dayof, facecolor='yellow', alpha=0.2)\n",
    "w = np.append(week, week[-1])[7-a.firstWeekLen:- (1 + (7-a.lastWeekLen))]\n",
    "ax.plot(scale, w, 'b')"
   ]
  },
  {
   "cell_type": "code",
   "execution_count": 8,
   "metadata": {
    "collapsed": false
   },
   "outputs": [
    {
     "name": "stdout",
     "output_type": "stream",
     "text": [
      "[ 5  1  1  1 10  3  1  1 45  1  4  1 17  2  6 11  2]\n",
      "[7, 2, 1, 1, 1, 1, 1, 1, 1, 1]\n",
      "[1, 2, 3, 4, 5, 6, 10, 11, 17, 45]\n",
      "[7, 4, 3, 4, 5, 6, 10, 11, 17, 45]\n"
     ]
    }
   ],
   "source": [
    "dayOf = np.array(a.dayOf[1])\n",
    "print dayOf\n",
    "y = sorted(list(set(a.dayOf[1])))\n",
    "x = [a.dayOf[1].count(d) for d in y]\n",
    "print x\n",
    "print y\n",
    "X = np.array(x)\n",
    "Y = np.array(y)\n",
    "\n",
    "print list(X*Y)\n",
    "s2 = np.array([sum(list(X*Y)[:1+i]) for i in range(len(x))])\n",
    "#print [reduce(lambda a,b: a+b, list(X*Y)[:1+i] for i in (range(len(x))))]"
   ]
  },
  {
   "cell_type": "code",
   "execution_count": null,
   "metadata": {
    "collapsed": true
   },
   "outputs": [],
   "source": []
  },
  {
   "cell_type": "code",
   "execution_count": 19,
   "metadata": {
    "collapsed": false
   },
   "outputs": [
    {
     "data": {
      "image/png": "[encoded data removed]",
      "text/plain": [
       "<matplotlib.figure.Figure at 0x35c0b50>"
      ]
     },
     "metadata": {},
     "output_type": "display_data"
    }
   ],
   "source": [
    "fig = plt.figure(figsize=(8,8))\n",
    "ax = fig.add_axes([0.1, 0.1, 0.8, 0.8])\n",
    "\n",
    "ax.hist(dayOf, max(dayOf + 3))\n",
    "ax.yaxis.set_major_locator(plt.FixedLocator(y))\n",
    "#newax = ax[0][1].twinx()\n",
    "#s = np.arange(8)\n",
    "#newax.plot(s,s2)\n",
    "\n"
   ]
  },
  {
   "cell_type": "raw",
   "metadata": {
    "collapsed": false
   },
   "source": [
    "\n",
    "\n",
    "ax[0][1].ba\n",
    "\n",
    "ax[1][0].plot(day_scale, w)"
   ]
  },
  {
   "cell_type": "code",
   "execution_count": null,
   "metadata": {
    "collapsed": true
   },
   "outputs": [],
   "source": []
  }
 ],
 "metadata": {
  "kernelspec": {
   "display_name": "Python 2",
   "language": "python",
   "name": "python2"
  },
  "language_info": {
   "codemirror_mode": {
    "name": "ipython",
    "version": 2
   },
   "file_extension": ".py",
   "mimetype": "text/x-python",
   "name": "python",
   "nbconvert_exporter": "python",
   "pygments_lexer": "ipython2",
   "version": "2.7.5+"
  }
 },
 "nbformat": 4,
 "nbformat_minor": 0
}
